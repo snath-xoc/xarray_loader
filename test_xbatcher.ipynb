{
 "cells": [
  {
   "cell_type": "code",
   "execution_count": null,
   "id": "6fcec189-ecb8-4bc3-81c2-a858cb4f7a5a",
   "metadata": {},
   "outputs": [],
   "source": [
    "import xarray_batcher as xb"
   ]
  },
  {
   "cell_type": "code",
   "execution_count": null,
   "id": "2b0d0101-7a47-4b7f-beb3-ece8f1c33594",
   "metadata": {},
   "outputs": [],
   "source": [
    "truth_batch=1\n",
    "assert truth_batch is not None"
   ]
  },
  {
   "cell_type": "code",
   "execution_count": null,
   "id": "8c33b709-e604-4f25-b3ff-9fe522bed804",
   "metadata": {},
   "outputs": [],
   "source": [
    "\n",
    "dl = xb.DataModule()\n"
   ]
  },
  {
   "cell_type": "code",
   "execution_count": null,
   "id": "aea7e9b5-f318-4e69-a791-e1c7b4285833",
   "metadata": {
    "scrolled": true
   },
   "outputs": [],
   "source": [
    "\n",
    "for d in dl.train_dataloader():\n",
    "    print(d)\n",
    "    break\n"
   ]
  },
  {
   "cell_type": "code",
   "execution_count": null,
   "id": "e3824ef0-1d4b-4932-b568-f8905f93e360",
   "metadata": {},
   "outputs": [],
   "source": [
    "from xarray_batcher.get_fcst_and_truth import get_all, stream_ifs\n",
    "import numpy as np"
   ]
  },
  {
   "cell_type": "code",
   "execution_count": null,
   "id": "cdc49def-ea1d-4ab9-94db-a8061093f126",
   "metadata": {},
   "outputs": [],
   "source": [
    "truth_ds = get_all([2018],model='truth')"
   ]
  },
  {
   "cell_type": "code",
   "execution_count": null,
   "id": "7194092b-1ced-48b6-881d-cbde68d6a5bf",
   "metadata": {},
   "outputs": [],
   "source": [
    "import xbatcher\n",
    "\n",
    "batch_size=[1,128,128]\n",
    "\n",
    "y_generator = xbatcher.BatchGenerator(truth_ds,\n",
    "                {\"time\": batch_size[0], \"lat\": batch_size[1], \"lon\": batch_size[2]},\n",
    "                input_overlap={\"lat\": int(batch_size[1]/32), \"lon\": int(batch_size[2]/32)})\n"
   ]
  },
  {
   "cell_type": "code",
   "execution_count": null,
   "id": "5a887bb7-fdb4-4395-ac4e-dd1f3325bb07",
   "metadata": {},
   "outputs": [],
   "source": [
    "%%time\n",
    "\n",
    "get_all([2018],model='ifs',truth_batch=y_generator[0],stream=True,offset=24,variables=['tp','cp','u700'])"
   ]
  },
  {
   "cell_type": "code",
   "execution_count": null,
   "id": "a510571c-be24-4448-8498-61bfc48fea3c",
   "metadata": {},
   "outputs": [],
   "source": [
    "y_generator[0]"
   ]
  },
  {
   "cell_type": "code",
   "execution_count": null,
   "id": "80b154a0-c2e6-445d-ac78-865ba9dea294",
   "metadata": {},
   "outputs": [],
   "source": [
    "from xarray_batcher.create_npz import TruthDataloader_to_Npz\n",
    "\n",
    "reg_dict = TruthDataloader_to_Npz('/network/group/aopp/predict/AWH026_NATH_GFSAIMOD/NeuralProcess/')\n"
   ]
  },
  {
   "cell_type": "code",
   "execution_count": null,
   "id": "75d4787a-82b7-4374-b61a-fd59a8fdf880",
   "metadata": {},
   "outputs": [],
   "source": []
  }
 ],
 "metadata": {
  "kernelspec": {
   "display_name": "torch_24",
   "language": "python",
   "name": "torch_24"
  },
  "language_info": {
   "codemirror_mode": {
    "name": "ipython",
    "version": 3
   },
   "file_extension": ".py",
   "mimetype": "text/x-python",
   "name": "python",
   "nbconvert_exporter": "python",
   "pygments_lexer": "ipython3",
   "version": "3.12.5"
  }
 },
 "nbformat": 4,
 "nbformat_minor": 5
}
